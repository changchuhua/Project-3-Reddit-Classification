{
 "cells": [
  {
   "cell_type": "markdown",
   "metadata": {},
   "source": [
    "# Scraping\n",
    "We start off this project by scraping posts from Reddit. The subreddits I have decided to classify are 'AskPhysics' and 'askmath'."
   ]
  },
  {
   "cell_type": "code",
   "execution_count": 2,
   "metadata": {},
   "outputs": [],
   "source": [
    "import json\n",
    "import urllib\n",
    "import pandas as pd\n",
    "import numpy as np\n",
    "import requests\n",
    "import json\n",
    "import re\n",
    "import random\n",
    "import time"
   ]
  },
  {
   "cell_type": "markdown",
   "metadata": {},
   "source": [
    "First, we point our url to the appropriate subreddit. Next, we set a useragent to reflect that we are accessing the site through a Chrome browser. "
   ]
  },
  {
   "cell_type": "code",
   "execution_count": 3,
   "metadata": {},
   "outputs": [],
   "source": [
    "url = 'https://www.reddit.com/r/AskPhysics.json'\n",
    "useragent = 'Mozilla/5.0 (Windows NT 10.0; Win64; x64) AppleWebKit/537.36 (KHTML, like Gecko) Chrome/75.0.3770.80 Safari/537.36'\n",
    "res = requests.get(url, headers={'User-agent': useragent})"
   ]
  },
  {
   "cell_type": "code",
   "execution_count": 4,
   "metadata": {},
   "outputs": [
    {
     "data": {
      "text/plain": [
       "200"
      ]
     },
     "execution_count": 4,
     "metadata": {},
     "output_type": "execute_result"
    }
   ],
   "source": [
    "# check request status\n",
    "res.status_code"
   ]
  },
  {
   "cell_type": "markdown",
   "metadata": {},
   "source": [
    "A 200 request status code indicates that the request went through just fine. As such, we continue with our scraping.<br/>\n",
    "\n",
    "Next, we perform a loop to save posts from our AskPhysics subreddit to external csv files. "
   ]
  },
  {
   "cell_type": "code",
   "execution_count": 23,
   "metadata": {},
   "outputs": [
    {
     "name": "stdout",
     "output_type": "stream",
     "text": [
      "https://www.reddit.com/r/AskPhysics.json\n",
      "4\n",
      "https://www.reddit.com/r/AskPhysics.json?after=t3_bz8eou\n",
      "6\n",
      "https://www.reddit.com/r/AskPhysics.json?after=t3_bz1hxa\n",
      "3\n",
      "https://www.reddit.com/r/AskPhysics.json?after=t3_byr0h4\n",
      "5\n",
      "https://www.reddit.com/r/AskPhysics.json?after=t3_byew6q\n",
      "6\n",
      "https://www.reddit.com/r/AskPhysics.json?after=t3_by51z7\n",
      "2\n",
      "https://www.reddit.com/r/AskPhysics.json?after=t3_bxsi2d\n",
      "5\n",
      "https://www.reddit.com/r/AskPhysics.json?after=t3_bxk9fe\n",
      "6\n",
      "https://www.reddit.com/r/AskPhysics.json?after=t3_bx3wae\n",
      "2\n",
      "https://www.reddit.com/r/AskPhysics.json?after=t3_bwxd9w\n",
      "6\n",
      "https://www.reddit.com/r/AskPhysics.json?after=t3_bwqalw\n",
      "5\n",
      "https://www.reddit.com/r/AskPhysics.json?after=t3_bwbd8o\n",
      "6\n",
      "https://www.reddit.com/r/AskPhysics.json?after=t3_bvxwk3\n",
      "5\n",
      "https://www.reddit.com/r/AskPhysics.json?after=t3_bvo01c\n",
      "6\n",
      "https://www.reddit.com/r/AskPhysics.json?after=t3_bvaw4o\n",
      "3\n",
      "https://www.reddit.com/r/AskPhysics.json?after=t3_buz84s\n",
      "4\n",
      "https://www.reddit.com/r/AskPhysics.json?after=t3_bub166\n",
      "6\n",
      "https://www.reddit.com/r/AskPhysics.json?after=t3_bu9pcn\n",
      "2\n",
      "https://www.reddit.com/r/AskPhysics.json?after=t3_btu09o\n",
      "4\n",
      "https://www.reddit.com/r/AskPhysics.json?after=t3_btj50t\n",
      "5\n",
      "https://www.reddit.com/r/AskPhysics.json?after=t3_bt9s4y\n",
      "3\n",
      "https://www.reddit.com/r/AskPhysics.json?after=t3_bsrr2e\n",
      "3\n",
      "https://www.reddit.com/r/AskPhysics.json?after=t3_bsmqhp\n",
      "5\n",
      "https://www.reddit.com/r/AskPhysics.json?after=t3_bs2p45\n",
      "2\n",
      "https://www.reddit.com/r/AskPhysics.json?after=t3_brudmr\n",
      "2\n",
      "https://www.reddit.com/r/AskPhysics.json?after=t3_brb9a9\n",
      "4\n",
      "https://www.reddit.com/r/AskPhysics.json?after=t3_br0gds\n",
      "2\n",
      "https://www.reddit.com/r/AskPhysics.json?after=t3_bqn5xd\n",
      "6\n",
      "https://www.reddit.com/r/AskPhysics.json?after=t3_bqgivo\n",
      "2\n",
      "https://www.reddit.com/r/AskPhysics.json?after=t3_bq3k5v\n",
      "3\n",
      "https://www.reddit.com/r/AskPhysics.json?after=t3_bppz1e\n",
      "4\n",
      "https://www.reddit.com/r/AskPhysics.json?after=t3_bperc1\n",
      "2\n",
      "https://www.reddit.com/r/AskPhysics.json?after=t3_bp42q5\n",
      "6\n",
      "https://www.reddit.com/r/AskPhysics.json?after=t3_bol4r4\n",
      "3\n",
      "https://www.reddit.com/r/AskPhysics.json?after=t3_bod5ir\n",
      "6\n",
      "https://www.reddit.com/r/AskPhysics.json?after=t3_bo5ia9\n",
      "6\n",
      "https://www.reddit.com/r/AskPhysics.json?after=t3_bnrxrv\n",
      "6\n",
      "https://www.reddit.com/r/AskPhysics.json?after=t3_bnbrnw\n",
      "3\n",
      "https://www.reddit.com/r/AskPhysics.json?after=t3_bmzil6\n",
      "5\n",
      "https://www.reddit.com/r/AskPhysics.json?after=t3_bmpy8t\n",
      "2\n"
     ]
    }
   ],
   "source": [
    "posts = []\n",
    "after = None\n",
    "#url = #fill in link here with .json\n",
    "savename = 'phys' #change link name here\n",
    "\n",
    "for a in range(40): # each loop pulls approximately 25 posts. adjust the number of loops accordingly.\n",
    "    if after == None: # only on first run\n",
    "        current_url = url\n",
    "    else: # for all subsequent runs, load the next page wanted\n",
    "        current_url = url + '?after=' + after\n",
    "    print(current_url)\n",
    "    res = requests.get(current_url, headers={'User-agent': useragent})\n",
    "    \n",
    "    if res.status_code != 200:\n",
    "        print('Status error', res.status_code)\n",
    "        break\n",
    "    \n",
    "    current_dict = res.json()\n",
    "    current_posts = [p['data'] for p in current_dict['data']['children']]\n",
    "    posts.extend(current_posts)\n",
    "    after = current_dict['data']['after']\n",
    "    \n",
    "    if a > 0: # for loops AFTER the first, save a csv with name phys and the nth loop performed\n",
    "        prev_posts = pd.read_csv(str('.\\\\'+savename+'\\\\'+savename+str(a-1)+'.csv'))\n",
    "        current_df = pd.DataFrame(current_posts)\n",
    "        pd.concat([prev_posts, current_df], ignore_index=True, sort=False).to_csv(('.\\\\'+savename+'\\\\'+str(savename+str(a)+'.csv')), index = False)\n",
    "        \n",
    "    else: #save data from first loop to phys0.csv\n",
    "        pd.DataFrame(posts).to_csv(str('.\\\\'+savename+'\\\\'+savename+str(a)+'.csv'), index = False)\n",
    "\n",
    "    # generate a random sleep duration to look more 'natural'\n",
    "    sleep_duration = random.randint(2,6)\n",
    "    print(sleep_duration)\n",
    "    time.sleep(sleep_duration)"
   ]
  },
  {
   "cell_type": "markdown",
   "metadata": {},
   "source": [
    "Next, we perform the same scrape for the askmath subreddit by changing the url. "
   ]
  },
  {
   "cell_type": "code",
   "execution_count": 31,
   "metadata": {},
   "outputs": [
    {
     "name": "stdout",
     "output_type": "stream",
     "text": [
      "https://www.reddit.com/r/askmath.json\n",
      "2\n",
      "https://www.reddit.com/r/askmath.json?after=t3_bzcrxw\n",
      "6\n",
      "https://www.reddit.com/r/askmath.json?after=t3_byzja5\n",
      "3\n",
      "https://www.reddit.com/r/askmath.json?after=t3_byhxop\n",
      "6\n",
      "https://www.reddit.com/r/askmath.json?after=t3_by021h\n",
      "5\n",
      "https://www.reddit.com/r/askmath.json?after=t3_bxh0wd\n",
      "6\n",
      "https://www.reddit.com/r/askmath.json?after=t3_bxa5yd\n",
      "5\n",
      "https://www.reddit.com/r/askmath.json?after=t3_bx0uhb\n",
      "4\n",
      "https://www.reddit.com/r/askmath.json?after=t3_bwqev7\n",
      "3\n",
      "https://www.reddit.com/r/askmath.json?after=t3_bwfwmx\n",
      "5\n",
      "https://www.reddit.com/r/askmath.json?after=t3_bvzzv7\n",
      "6\n",
      "https://www.reddit.com/r/askmath.json?after=t3_bvmmur\n",
      "3\n",
      "https://www.reddit.com/r/askmath.json?after=t3_buwsua\n",
      "6\n",
      "https://www.reddit.com/r/askmath.json?after=t3_buol0p\n",
      "4\n",
      "https://www.reddit.com/r/askmath.json?after=t3_bu8un3\n",
      "5\n",
      "https://www.reddit.com/r/askmath.json?after=t3_btuw0g\n",
      "6\n",
      "https://www.reddit.com/r/askmath.json?after=t3_btg415\n",
      "6\n",
      "https://www.reddit.com/r/askmath.json?after=t3_bt53do\n",
      "3\n",
      "https://www.reddit.com/r/askmath.json?after=t3_bsvqlz\n",
      "3\n",
      "https://www.reddit.com/r/askmath.json?after=t3_bsfjm1\n",
      "4\n",
      "https://www.reddit.com/r/askmath.json?after=t3_bs6780\n",
      "5\n",
      "https://www.reddit.com/r/askmath.json?after=t3_bry54q\n",
      "6\n",
      "https://www.reddit.com/r/askmath.json?after=t3_brik1k\n",
      "6\n",
      "https://www.reddit.com/r/askmath.json?after=t3_br1bek\n",
      "2\n",
      "https://www.reddit.com/r/askmath.json?after=t3_bqo7ie\n",
      "4\n",
      "https://www.reddit.com/r/askmath.json?after=t3_bq8igd\n",
      "2\n",
      "https://www.reddit.com/r/askmath.json?after=t3_bpm8cn\n",
      "4\n",
      "https://www.reddit.com/r/askmath.json?after=t3_bph1hv\n",
      "2\n",
      "https://www.reddit.com/r/askmath.json?after=t3_bouanb\n",
      "3\n",
      "https://www.reddit.com/r/askmath.json?after=t3_bop74u\n",
      "5\n",
      "https://www.reddit.com/r/askmath.json?after=t3_boann1\n",
      "2\n",
      "https://www.reddit.com/r/askmath.json?after=t3_bnrelk\n",
      "6\n",
      "https://www.reddit.com/r/askmath.json?after=t3_bn6005\n",
      "5\n",
      "https://www.reddit.com/r/askmath.json?after=t3_bmu028\n",
      "2\n",
      "https://www.reddit.com/r/askmath.json?after=t3_bmlw0t\n",
      "2\n",
      "https://www.reddit.com/r/askmath.json?after=t3_bm6wwq\n",
      "2\n",
      "https://www.reddit.com/r/askmath.json?after=t3_blsh5o\n",
      "4\n",
      "https://www.reddit.com/r/askmath.json?after=t3_ble4y8\n",
      "5\n",
      "https://www.reddit.com/r/askmath.json?after=t3_bkxlc7\n",
      "2\n",
      "https://www.reddit.com/r/askmath.json?after=t3_bkoyx8\n",
      "6\n"
     ]
    }
   ],
   "source": [
    "posts = []\n",
    "after = None\n",
    "url = 'https://www.reddit.com/r/askmath.json' #fill in link here with .json\n",
    "savename = 'math' #change link name here\n",
    "\n",
    "for a in range(40):\n",
    "    if after == None:\n",
    "        current_url = url\n",
    "    else:\n",
    "        current_url = url + '?after=' + after\n",
    "    print(current_url)\n",
    "    res = requests.get(current_url, headers={'User-agent': useragent})\n",
    "    \n",
    "    if res.status_code != 200:\n",
    "        print('Status error', res.status_code)\n",
    "        break\n",
    "    \n",
    "    current_dict = res.json()\n",
    "    current_posts = [p['data'] for p in current_dict['data']['children']]\n",
    "    posts.extend(current_posts)\n",
    "    after = current_dict['data']['after']\n",
    "    \n",
    "    if a > 0:\n",
    "        prev_posts = pd.read_csv(str('.\\\\'+savename+'\\\\'+savename+str(a-1)+'.csv'))\n",
    "        current_df = pd.DataFrame(current_posts)\n",
    "        pd.concat([prev_posts, current_df], ignore_index=True, sort=False).to_csv(('.\\\\'+savename+'\\\\'+str(savename+str(a)+'.csv')), index = False)\n",
    "        \n",
    "    else:\n",
    "        pd.DataFrame(posts).to_csv(str('.\\\\'+savename+'\\\\'+savename+str(a)+'.csv'), index = False)\n",
    "\n",
    "    # generate a random sleep duration to look more 'natural'\n",
    "    sleep_duration = random.randint(2,6)\n",
    "    print(sleep_duration)\n",
    "    time.sleep(sleep_duration)"
   ]
  },
  {
   "cell_type": "markdown",
   "metadata": {},
   "source": [
    "In the next section, we will clean the data obtained to create our model."
   ]
  },
  {
   "cell_type": "code",
   "execution_count": null,
   "metadata": {},
   "outputs": [],
   "source": []
  }
 ],
 "metadata": {
  "kernelspec": {
   "display_name": "Python 3",
   "language": "python",
   "name": "python3"
  },
  "language_info": {
   "codemirror_mode": {
    "name": "ipython",
    "version": 3
   },
   "file_extension": ".py",
   "mimetype": "text/x-python",
   "name": "python",
   "nbconvert_exporter": "python",
   "pygments_lexer": "ipython3",
   "version": "3.7.3"
  }
 },
 "nbformat": 4,
 "nbformat_minor": 2
}
